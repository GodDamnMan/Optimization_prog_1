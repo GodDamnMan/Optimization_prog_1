{
  "metadata": {
    "kernelspec": {
      "name": "python",
      "display_name": "Python (Pyodide)",
      "language": "python"
    },
    "language_info": {
      "codemirror_mode": {
        "name": "python",
        "version": 3
      },
      "file_extension": ".py",
      "mimetype": "text/x-python",
      "name": "python",
      "nbconvert_exporter": "python",
      "pygments_lexer": "ipython3",
      "version": "3.8"
    }
  },
  "nbformat_minor": 4,
  "nbformat": 4,
  "cells": [
    {
      "cell_type": "code",
      "source": "import math",
      "metadata": {
        "trusted": true
      },
      "outputs": [],
      "execution_count": 35
    },
    {
      "cell_type": "code",
      "source": "c = [1,2,3]\n\na = [[1,1,1],\n     [2,1,0],\n     [0,1.5,1]]\n\nb = [8,10,7]\n\nepsilon = 1",
      "metadata": {
        "trusted": true
      },
      "outputs": [],
      "execution_count": 112
    },
    {
      "cell_type": "code",
      "source": "class Simplex:\n    \n    # we define tableu:list (n:int * m:int) - matrix for simplex\n    # constrains:list - to check whether tableu ratios are in the scope of them\n    # var - ['x1', 'x2', 'x3', 's1', 's2', 's3']\n    # basic - ['s1', 's2', 's3']\n    def __init__(self, obj_function: list, constrains_matrix: list, right_hand_side_num: list, epsilon:int):\n        self.constrains = constrains_matrix\n        self.tableu = [[-c for c in obj_function] + [0 for i in range(len(constrains_matrix))] + [0]]\n        for i in range(len(a)):\n            self.tableu.append([el for el in constrains_matrix[i]] + [1 if i == j else 0 for j in range(len(constrains_matrix))] + [right_hand_side_num[i]])\n        \n        self.n = len(self.tableu)\n        self.m = len(self.tableu[0])\n        self.eps = epsilon\n        self.basic = [f's{i+1}' for i in range(len(constrains_matrix))]\n        self.vars = [f'x{i+1}' for i in range(len(obj_function))] + self.basic\n        self.formatting = '{:'+str(self.eps + 4) + '.' + str(self.eps) + 'f}'\n        self.solving = []\n\n    # just simplex \n    def simplex_method(self):\n        while True:\n            enters = self.solving[0].index(min(self.solving[0]))\n            if self.solving[0][enters] >= 0:\n                break\n            leaves = 0\n            l_value = math.inf\n            for i in range(1, self.n):\n                if self.solving[i][enters] == 0: continue\n                temp = self.solving[i][self.m-1]/self.solving[i][enters]\n                if (temp < l_value):\n                    leaves = i\n                    l_value = temp\n            if leaves == 0:\n                break\n\n            self.basic[leaves - 1] = self.vars[enters]\n            \n            for i in range(self.m):\n                self.solving[leaves][i] /= self.solving[leaves][enters]\n        \n            for i in range(self.n):\n                if i == leaves:\n                    continue\n                coef = -self.solving[i][enters] / self.solving[leaves][enters]\n                for j in range(self.m):\n                    self.solving[i][j] += self.solving[leaves][j] * coef\n\n    \n    def solve_maximize(self):\n        self.solving = self.tableu.copy()\n        self.simplex_method()\n        return self.solving[0][self.m-1]\n        \n    \n    def solve_minimize(self): \n        self.solving = self.tableu.copy()\n        for i in range(self.m):\n            self.solving[0][i] *= -1\n        self.simplex_method()\n        return -self.solving[0][self.m-1]\n\n    \n    # function to print initial tableu\n    def print_initial(self):\n        print(\"initial tableu:\")\n        for i in self.tableu:\n            print(\"|\", end = \"\")\n            for j in i:\n                print(self.formatting.format(j), end = \" |\")\n            print()\n        print()\n\n    # function to print tableu after applying a Simplex method\n    def print_solved(self):\n        print(\"optimum is\", self.solving[0][self.m-1])\n        for i in range(len(self.basic)):\n            print(self.basic[i], \"=\", self.solving[i+1][self.m-1])\n            \n        for i in self.solving:\n            print(\"| \", end = \"\")\n            for j in i:\n                print(self.formatting.format(j), end = \" |\")\n            print()\n        print()\n\n        ",
      "metadata": {
        "trusted": true,
        "tags": [],
        "editable": true,
        "slideshow": {
          "slide_type": ""
        }
      },
      "outputs": [],
      "execution_count": 139
    },
    {
      "cell_type": "code",
      "source": "lp = Simplex(c, a, b, epsilon)",
      "metadata": {
        "trusted": true,
        "tags": [],
        "editable": true,
        "slideshow": {
          "slide_type": ""
        }
      },
      "outputs": [],
      "execution_count": 140
    },
    {
      "cell_type": "code",
      "source": "lp.print_initial()\nlp.solve_maximize()\nlp.print_solved()\n",
      "metadata": {
        "trusted": true
      },
      "outputs": [
        {
          "name": "stdout",
          "text": "initial tableu:\n| -1.0 | -2.0 | -3.0 |  0.0 |  0.0 |  0.0 |  0.0 |\n|  1.0 |  1.0 |  1.0 |  1.0 |  0.0 |  0.0 |  8.0 |\n|  2.0 |  1.0 |  0.0 |  0.0 |  1.0 |  0.0 | 10.0 |\n|  0.0 |  1.5 |  1.0 |  0.0 |  0.0 |  1.0 |  7.0 |\n\noptimum is 22.0\nx1 = 1.0\ns2 = 8.0\nx3 = 7.0\n|   0.0 |  2.0 |  0.0 |  1.0 |  0.0 |  2.0 | 22.0 |\n|   1.0 | -0.5 |  0.0 |  1.0 |  0.0 | -1.0 |  1.0 |\n|   0.0 |  2.0 |  0.0 | -2.0 |  1.0 |  2.0 |  8.0 |\n|   0.0 |  1.5 |  1.0 |  0.0 |  0.0 |  1.0 |  7.0 |\n\n",
          "output_type": "stream"
        }
      ],
      "execution_count": 142
    },
    {
      "cell_type": "code",
      "source": "",
      "metadata": {
        "trusted": true
      },
      "outputs": [],
      "execution_count": null
    }
  ]
}